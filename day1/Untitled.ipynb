{
 "cells": [
  {
   "cell_type": "code",
   "execution_count": 34,
   "metadata": {},
   "outputs": [
    {
     "name": "stdout",
     "output_type": "stream",
     "text": [
      "1\n",
      "[10, 9, 9, 8, 8, 7, 7, 6, 6, 5, 5, 4, 4, 3, 3, 2, 2, 1, 1, 0]\n",
      "#<Enumerator:0x000055bf80c2b740>\n",
      "100  99  98  97  96  95  94  93  92  91 \n",
      " 65  64  63  62  61  60  59  58  57  90 \n",
      " 66  37  36  35  34  33  32  31  56  89 \n",
      " 67  38  17  16  15  14  13  30  55  88 \n",
      " 68  39  18   5   4   3  12  29  54  87 \n",
      " 69  40  19   6   1   2  11  28  53  86 \n",
      " 70  41  20   7   8   9  10  27  52  85 \n",
      " 71  42  21  22  23  24  25  26  51  84 \n",
      " 72  43  44  45  46  47  48  49  50  83 \n",
      " 73  74  75  76  77  78  79  80  81  82 \n"
     ]
    },
    {
     "data": {
      "text/plain": [
       "[[100, 99, 98, 97, 96, 95, 94, 93, 92, 91], [65, 64, 63, 62, 61, 60, 59, 58, 57, 90], [66, 37, 36, 35, 34, 33, 32, 31, 56, 89], [67, 38, 17, 16, 15, 14, 13, 30, 55, 88], [68, 39, 18, 5, 4, 3, 12, 29, 54, 87], [69, 40, 19, 6, 1, 2, 11, 28, 53, 86], [70, 41, 20, 7, 8, 9, 10, 27, 52, 85], [71, 42, 21, 22, 23, 24, 25, 26, 51, 84], [72, 43, 44, 45, 46, 47, 48, 49, 50, 83], [73, 74, 75, 76, 77, 78, 79, 80, 81, 82]]"
      ]
     },
     "execution_count": 34,
     "metadata": {},
     "output_type": "execute_result"
    }
   ],
   "source": [
    "require \"matrix\"\n",
    "class Matrix\n",
    "  def []=(i, j, x)\n",
    "    @rows[i][j] = x\n",
    "  end\n",
    "end\n",
    "\n",
    "def spiral(n)\n",
    "  spiral = Array.new(n) {Array.new(n, nil)}     # n x n array of nils\n",
    "  #puts spiral\n",
    "  runs = n.downto(0).each_cons(2).to_a.flatten  # n==5; [5,4,4,3,3,2,2,1,1,0]\n",
    "  puts runs\n",
    "  delta = [[1,0], [0,1], [-1,0], [0,-1]].cycle\n",
    "  puts delta\n",
    "  x, y, value = -1, 0, 101\n",
    "  for run in runs\n",
    "    dx, dy = delta.next\n",
    "    #printf(\"%d\\t%d\\n\",dx,dy)\n",
    "    run.times { spiral[y+=dy][x+=dx] = (value-=1) }\n",
    "  end\n",
    "  spiral\n",
    "end\n",
    " \n",
    "def print_matrix(m)\n",
    "  width = m.flatten.map{|x| x.to_s.size}.max\n",
    "  m.each {|row| puts row.map {|x| \"%#{width}s \" % x}.join}\n",
    "end\n",
    "puts (1-2).abs\n",
    "print_matrix spiral(10)"
   ]
  },
  {
   "cell_type": "code",
   "execution_count": 30,
   "metadata": {},
   "outputs": [
    {
     "name": "stdout",
     "output_type": "stream",
     "text": [
      "514\n",
      "953\n"
     ]
    }
   ],
   "source": [
    "def find_lower_square(value)\n",
    "\t\tsearch_ = (value/2).to_i\n",
    "\t\t(2..search_).each{ |x| return x-1 if x*x > value}\n",
    "        end     \n",
    "          \n",
    "puts find_lower_square(265149)\n",
    "puts 265149 - 514**2\n"
   ]
  }
 ],
 "metadata": {
  "kernelspec": {
   "display_name": "Ruby 2.4.2",
   "language": "ruby",
   "name": "ruby"
  },
  "language_info": {
   "file_extension": ".rb",
   "mimetype": "application/x-ruby",
   "name": "ruby",
   "version": "2.4.2"
  }
 },
 "nbformat": 4,
 "nbformat_minor": 2
}
