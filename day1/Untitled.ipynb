{
 "cells": [
  {
   "cell_type": "code",
   "execution_count": 94,
   "metadata": {},
   "outputs": [
    {
     "name": "stdout",
     "output_type": "stream",
     "text": [
      "[5, 3, 4]\n"
     ]
    }
   ],
   "source": [
    "require \"test/unit/assertions\"\n",
    "include Test::Unit::Assertions\n",
    "\n",
    "def isdiv?(a,b)\n",
    "   #assert(a%b ==0, \"Not disisible\")\n",
    "  return a%b ==0\n",
    "\n",
    "end\n",
    "\n",
    "\tdef parse_div(list)\n",
    "\t\tlist.each do |y|\n",
    "\t\t\tlist.each { |x| return [x, y] if isdiv?(x, y) && x != y}\n",
    " \t\tend\n",
    "\tend\n",
    "\n",
    "puts parse_div([5,3,4])\n"
   ]
  }
 ],
 "metadata": {
  "kernelspec": {
   "display_name": "Ruby 2.4.2",
   "language": "ruby",
   "name": "ruby"
  },
  "language_info": {
   "file_extension": ".rb",
   "mimetype": "application/x-ruby",
   "name": "ruby",
   "version": "2.4.2"
  }
 },
 "nbformat": 4,
 "nbformat_minor": 2
}
