{
 "cells": [
  {
   "cell_type": "code",
   "execution_count": 54,
   "metadata": {},
   "outputs": [
    {
     "name": "stdout",
     "output_type": "stream",
     "text": [
      "Hello\n",
      "2\n",
      "3\n"
     ]
    },
    {
     "data": {
      "text/plain": [
       "0"
      ]
     },
     "execution_count": 54,
     "metadata": {},
     "output_type": "execute_result"
    }
   ],
   "source": [
    "require 'irb/completion'\n",
    "puts \"Hello\"\n",
    "value_file \t\t= File.open(\"input\", \"rb\")\n",
    "content_value \t= value_file.read\n",
    "\n",
    "\n",
    "\n",
    "list1 = content_value.split('').reject{|c| c == \"\\n\"}\n",
    "list2 = list1.map(&:to_i)\n",
    "puts list2.first\n",
    "puts list2.next\n",
    "puts list2.next\n",
    "\n",
    "puts list2.last.next \n",
    "\n",
    "\"d\".to_i\n"
   ]
  }
 ],
 "metadata": {
  "kernelspec": {
   "display_name": "Ruby 2.4.2",
   "language": "ruby",
   "name": "ruby"
  },
  "language_info": {
   "file_extension": ".rb",
   "mimetype": "application/x-ruby",
   "name": "ruby",
   "version": "2.4.2"
  }
 },
 "nbformat": 4,
 "nbformat_minor": 2
}
