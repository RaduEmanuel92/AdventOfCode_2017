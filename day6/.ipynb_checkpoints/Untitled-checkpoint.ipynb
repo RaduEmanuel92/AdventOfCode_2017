{
 "cells": [
  {
   "cell_type": "code",
   "execution_count": 49,
   "metadata": {},
   "outputs": [
    {
     "name": "stdout",
     "output_type": "stream",
     "text": [
      "[4, 10, 4, 1, 8, 4, 9, 14, 5, 1, 14, 15, 0, 15, 3, 5]\n"
     ]
    },
    {
     "data": {
      "text/plain": [
       "11"
      ]
     },
     "execution_count": 49,
     "metadata": {},
     "output_type": "execute_result"
    }
   ],
   "source": [
    "input_list = []\n",
    "file = File.open('input', 'r') {|f| f.read}\n",
    "input_list = file.split(\"\\t\").map(&:to_i)\n",
    "cyc = input_list\n",
    "puts input_list\n",
    "max_index = input_list.index(input_list.max)\n",
    "for 1..input_list[max_index].each do |x|\n",
    "\tinput_list[max_index + x % input_list.length] += 1\n",
    "end\n",
    "\n",
    "puts input_list"
   ]
  }
 ],
 "metadata": {
  "kernelspec": {
   "display_name": "Ruby 2.4.2",
   "language": "ruby",
   "name": "ruby"
  },
  "language_info": {
   "file_extension": ".rb",
   "mimetype": "application/x-ruby",
   "name": "ruby",
   "version": "2.4.2"
  }
 },
 "nbformat": 4,
 "nbformat_minor": 2
}
