{
 "cells": [
  {
   "cell_type": "code",
   "execution_count": 95,
   "metadata": {},
   "outputs": [
    {
     "name": "stdout",
     "output_type": "stream",
     "text": [
      "SyntaxError: unexpected '\\n', expecting '='\n"
     ]
    }
   ],
   "source": [
    "input_list = []\n",
    "$database = []\n",
    "file = File.open('input', 'r') {|f| f.read}\n",
    "input_list = file.split(\"\\t\").map(&:to_i)\n",
    "cyc = input_list\n",
    "\n",
    "#$database.push(cyc)\n",
    "max_index = input_list.index(input_list.max)\n",
    "steps = input_list[max_index]\n",
    "input_list[max_index] = 0\n",
    "for x in (1..steps)\n",
    "\tinput_list[(max_index + x) % input_list.length] += 1\n",
    "end\n",
    "\n",
    "l1 = [2]\n",
    "l2 = [3]\n",
    "l3 = [4,5]\n",
    "$database.push(l1)\n",
    "$database.push(l2)\n",
    "$database.push(l3)\n",
    "\n",
    "l3 = [5,4]\n",
    "\n",
    "puts $database\n",
    "if $database.include? l3\n",
    "  puts \"asa\"\n",
    "else\n",
    "  $database.push(l3)\n",
    "end\n",
    "\n",
    "\n",
    "if $database.include? l3\n",
    "  puts \"asa\"\n",
    "else\n",
    "  $database.push(l3)\n",
    "end\n",
    "puts $database\n",
    "\n",
    "(x,y)"
   ]
  },
  {
   "cell_type": "code",
   "execution_count": 97,
   "metadata": {},
   "outputs": [
    {
     "ename": "NoMethodError",
     "evalue": "undefined method `int' for main:Object",
     "output_type": "error",
     "traceback": [
      "\u001b[31mNoMethodError\u001b[0m: undefined method `int' for main:Object",
      "\u001b[37m(pry):1205:in `<main>'\u001b[0m",
      "\u001b[37m/usr/local/lib/ruby/gems/2.4.0/gems/pry-0.11.3/lib/pry/pry_instance.rb:355:in `eval'\u001b[0m",
      "\u001b[37m/usr/local/lib/ruby/gems/2.4.0/gems/pry-0.11.3/lib/pry/pry_instance.rb:355:in `evaluate_ruby'\u001b[0m",
      "\u001b[37m/usr/local/lib/ruby/gems/2.4.0/gems/pry-0.11.3/lib/pry/pry_instance.rb:323:in `handle_line'\u001b[0m",
      "\u001b[37m/usr/local/lib/ruby/gems/2.4.0/gems/pry-0.11.3/lib/pry/pry_instance.rb:243:in `block (2 levels) in eval'\u001b[0m",
      "\u001b[37m/usr/local/lib/ruby/gems/2.4.0/gems/pry-0.11.3/lib/pry/pry_instance.rb:242:in `catch'\u001b[0m",
      "\u001b[37m/usr/local/lib/ruby/gems/2.4.0/gems/pry-0.11.3/lib/pry/pry_instance.rb:242:in `block in eval'\u001b[0m",
      "\u001b[37m/usr/local/lib/ruby/gems/2.4.0/gems/pry-0.11.3/lib/pry/pry_instance.rb:241:in `catch'\u001b[0m",
      "\u001b[37m/usr/local/lib/ruby/gems/2.4.0/gems/pry-0.11.3/lib/pry/pry_instance.rb:241:in `eval'\u001b[0m",
      "\u001b[37m/usr/local/lib/ruby/gems/2.4.0/gems/iruby-0.3/lib/iruby/backend.rb:66:in `eval'\u001b[0m",
      "\u001b[37m/usr/local/lib/ruby/gems/2.4.0/gems/iruby-0.3/lib/iruby/backend.rb:12:in `eval'\u001b[0m",
      "\u001b[37m/usr/local/lib/ruby/gems/2.4.0/gems/iruby-0.3/lib/iruby/kernel.rb:87:in `execute_request'\u001b[0m",
      "\u001b[37m/usr/local/lib/ruby/gems/2.4.0/gems/iruby-0.3/lib/iruby/kernel.rb:47:in `dispatch'\u001b[0m",
      "\u001b[37m/usr/local/lib/ruby/gems/2.4.0/gems/iruby-0.3/lib/iruby/kernel.rb:37:in `run'\u001b[0m",
      "\u001b[37m/usr/local/lib/ruby/gems/2.4.0/gems/iruby-0.3/lib/iruby/command.rb:70:in `run_kernel'\u001b[0m",
      "\u001b[37m/usr/local/lib/ruby/gems/2.4.0/gems/iruby-0.3/lib/iruby/command.rb:34:in `run'\u001b[0m",
      "\u001b[37m/usr/local/lib/ruby/gems/2.4.0/gems/iruby-0.3/bin/iruby:5:in `<top (required)>'\u001b[0m",
      "\u001b[37m/usr/local/bin/iruby:23:in `load'\u001b[0m",
      "\u001b[37m/usr/local/bin/iruby:23:in `<main>'\u001b[0m"
     ]
    }
   ],
   "source": [
    "l3 = [\"5\", 4]\n",
    "l3[0] = int(l3[0])"
   ]
  }
 ],
 "metadata": {
  "kernelspec": {
   "display_name": "Ruby 2.4.2",
   "language": "ruby",
   "name": "ruby"
  },
  "language_info": {
   "file_extension": ".rb",
   "mimetype": "application/x-ruby",
   "name": "ruby",
   "version": "2.4.2"
  }
 },
 "nbformat": 4,
 "nbformat_minor": 2
}
