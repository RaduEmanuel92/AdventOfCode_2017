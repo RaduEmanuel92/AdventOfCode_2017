{
 "cells": [
  {
   "cell_type": "code",
   "execution_count": 30,
   "metadata": {},
   "outputs": [
    {
     "name": "stdout",
     "output_type": "stream",
     "text": [
      "[[\"mmqyju\", \"156\", \"rjzvwv\", \"noybkx\"], [\"mhhvcg\", \"83\", \"sorhq\", \"hzoqij\", \"mvacic\", \"fbhzkoh\", \"uzpxmf\", \"cmyrw\", \"mmqyju\"]]\n"
     ]
    }
   ],
   "source": [
    "$process_list = []\n",
    "def process_line(line)\n",
    "\treturn line.split(' ').map { |x| x.chomp(\"/n\")}.\n",
    "\t\t\t\t\t\t\treject { |x| x == \"->\" }.\n",
    "\t\t\t\t\t\t\tmap { |x| x.chomp(\",\")}.\n",
    "\t\t\t\t\t\t\tmap { |x| x.tr(\"()\", '')}\n",
    "end\n",
    "\n",
    "def parse_file(file)\n",
    "\tFile.open(\"input\", \"r\").each do  |line|  \n",
    "\t\tline = process_line(line).to_a\n",
    "\t\t#printf(\"%s\\n\", line)\n",
    "\t\t$process_list.push(line)\n",
    "\tend\n",
    "\treturn $process_list\n",
    "end\n",
    "\n",
    "parse_file(\"input\")\n",
    "#printf(\"%s\\n\", parse_file(\"input\"))\n",
    "\n",
    "puts $process_list.find_all{ |x| x.include?($process_list[0][0])}"
   ]
  },
  {
   "cell_type": "code",
   "execution_count": 41,
   "metadata": {},
   "outputs": [
    {
     "name": "stdout",
     "output_type": "stream",
     "text": [
      "7\n",
      "3\n",
      "11\n",
      "#<Tree:0x000055d145e8ddb8>\n"
     ]
    }
   ],
   "source": [
    "class Tree\n",
    "  attr_accessor :children, :value\n",
    "\n",
    "  def initialize(v)\n",
    "    @value = v\n",
    "    @children = []\n",
    "  end\n",
    "end\n",
    "\n",
    "t = Tree.new(7)\n",
    "t.children << Tree.new(3)\n",
    "t.children << Tree.new(11)\n",
    "\n",
    "puts t.value              # 7\n",
    "puts t.children[0].value  # 3\n",
    "puts t.children[1].value  # 11\n",
    "\n",
    "printf(\"%s\", t)"
   ]
  }
 ],
 "metadata": {
  "kernelspec": {
   "display_name": "Ruby 2.4.2",
   "language": "ruby",
   "name": "ruby"
  },
  "language_info": {
   "file_extension": ".rb",
   "mimetype": "application/x-ruby",
   "name": "ruby",
   "version": "2.4.2"
  }
 },
 "nbformat": 4,
 "nbformat_minor": 2
}
